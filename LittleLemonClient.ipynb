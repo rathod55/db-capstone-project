{
 "cells": [
  {
   "cell_type": "code",
   "execution_count": null,
   "metadata": {},
   "outputs": [],
   "source": [
    "!pip install mysql-connector-python"
   ]
  },
  {
   "cell_type": "code",
   "execution_count": 28,
   "metadata": {},
   "outputs": [],
   "source": [
    "import mysql.connector as connector"
   ]
  },
  {
   "cell_type": "code",
   "execution_count": 29,
   "metadata": {},
   "outputs": [],
   "source": [
    "#Testing the Database Connection\n",
    "connection = connector.connect(user = \"root\", password = \"Abhi\", db = \"littlelemondb\")"
   ]
  },
  {
   "cell_type": "code",
   "execution_count": 30,
   "metadata": {},
   "outputs": [],
   "source": [
    "#instantiate cursor\n",
    "cursor = connection.cursor()"
   ]
  },
  {
   "cell_type": "code",
   "execution_count": 31,
   "metadata": {},
   "outputs": [],
   "source": [
    "#show tables query\n",
    "show_tables_query = \"SHOW TABLES\"\n",
    "cursor.execute(show_tables_query)"
   ]
  },
  {
   "cell_type": "code",
   "execution_count": 33,
   "metadata": {},
   "outputs": [],
   "source": [
    "results = cursor.fetchall()"
   ]
  },
  {
   "cell_type": "code",
   "execution_count": 35,
   "metadata": {},
   "outputs": [
    {
     "name": "stdout",
     "output_type": "stream",
     "text": [
      "('bookings',)\n",
      "('customer',)\n",
      "('food_item',)\n",
      "('menu',)\n",
      "('order_delivery_status',)\n",
      "('orders',)\n",
      "('orders_view',)\n",
      "('staff',)\n"
     ]
    }
   ],
   "source": [
    "for x in results:\n",
    "    print(x)"
   ]
  },
  {
   "cell_type": "code",
   "execution_count": 38,
   "metadata": {},
   "outputs": [],
   "source": [
    "#Customer Details with Total Cost greater than 60\n",
    "show_cust_details = '''SELECT CONCAT(customer.FNAME ,\" \",customer.LNAME) AS CUSTOMER_FULLNAME, \n",
    "customer.EMAIL AS CUSTOMER_EMAIL, \n",
    "orders.TOTAL_PRICE  AS TOTAL_PRICE\n",
    "FROM customer JOIN orders ON\n",
    "customer.CUSTOMER_ID = orders.Customer_CUSTOMER_ID\n",
    "WHERE orders.TOTAL_PRICE > 60;'''\n",
    "cursor.execute(show_cust_details)"
   ]
  },
  {
   "cell_type": "code",
   "execution_count": 39,
   "metadata": {},
   "outputs": [],
   "source": [
    "results = cursor.fetchall()"
   ]
  },
  {
   "cell_type": "code",
   "execution_count": 43,
   "metadata": {},
   "outputs": [
    {
     "name": "stdout",
     "output_type": "stream",
     "text": [
      "Customer Full Name: Nishant Vibhute\n",
      "Customer Email: nishant@gmail.com\n",
      "Customer Order Value: 140.34\n",
      "\n",
      "Customer Full Name: Adesh Narke\n",
      "Customer Email: adesh@gmail.com\n",
      "Customer Order Value: 300.0\n",
      "\n",
      "Customer Full Name: Omkar Patil\n",
      "Customer Email: omkar@gmail.com\n",
      "Customer Order Value: 180.56\n",
      "\n",
      "Customer Full Name: Shrikant Mane\n",
      "Customer Email: shrikant@gmail.com\n",
      "Customer Order Value: 401.0\n",
      "\n",
      "Customer Full Name: Suyash Wagh\n",
      "Customer Email: suyash@gmail.com\n",
      "Customer Order Value: 300.0\n",
      "\n"
     ]
    }
   ],
   "source": [
    "for x in results:\n",
    "    print(\"Customer Full Name:\",x[0])\n",
    "    print(\"Customer Email:\",x[1])\n",
    "    print(\"Customer Order Value:\", x[2])\n",
    "    print()"
   ]
  },
  {
   "cell_type": "code",
   "execution_count": null,
   "metadata": {},
   "outputs": [],
   "source": []
  }
 ],
 "metadata": {
  "kernelspec": {
   "display_name": "Python 3",
   "language": "python",
   "name": "python3"
  },
  "language_info": {
   "codemirror_mode": {
    "name": "ipython",
    "version": 3
   },
   "file_extension": ".py",
   "mimetype": "text/x-python",
   "name": "python",
   "nbconvert_exporter": "python",
   "pygments_lexer": "ipython3",
   "version": "3.7.4"
  }
 },
 "nbformat": 4,
 "nbformat_minor": 2
}
